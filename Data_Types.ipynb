{
  "nbformat": 4,
  "nbformat_minor": 0,
  "metadata": {
    "colab": {
      "provenance": []
    },
    "kernelspec": {
      "name": "python3",
      "display_name": "Python 3"
    },
    "language_info": {
      "name": "python"
    }
  },
  "cells": [
    {
      "cell_type": "markdown",
      "source": [
        "**List**"
      ],
      "metadata": {
        "id": "rwJVio5l5dZt"
      }
    },
    {
      "cell_type": "code",
      "execution_count": 7,
      "metadata": {
        "colab": {
          "base_uri": "https://localhost:8080/"
        },
        "id": "d_79LOzjRArc",
        "outputId": "782158d8-b172-4ab3-a053-161fd64e51ff"
      },
      "outputs": [
        {
          "output_type": "stream",
          "name": "stdout",
          "text": [
            "[4]\n"
          ]
        }
      ],
      "source": [
        "#he `append()` method is used to add an element to the end of a list.\n",
        "list_name=[]\n",
        "element = 4\n",
        "list_name.append(element)\n",
        "print(list_name)"
      ]
    },
    {
      "cell_type": "code",
      "source": [
        "fruits = [\"apple\", \"banana\", \"orange\"]\n",
        "fruits.append(\"mango\")\n",
        "print(fruits)"
      ],
      "metadata": {
        "colab": {
          "base_uri": "https://localhost:8080/"
        },
        "id": "r2fPLOUjThNJ",
        "outputId": "1ca6f903-a218-4238-b150-4f86ecef95b7"
      },
      "execution_count": 9,
      "outputs": [
        {
          "output_type": "stream",
          "name": "stdout",
          "text": [
            "['apple', 'banana', 'orange', 'mango']\n"
          ]
        }
      ]
    },
    {
      "cell_type": "code",
      "source": [
        "#The `copy()` method is used to create a shallow copy of a list.\n",
        "\n",
        "my_list = [1, 2, 3, 4, 5]\n",
        "new_list = my_list.copy()\n",
        "print(new_list)\n"
      ],
      "metadata": {
        "colab": {
          "base_uri": "https://localhost:8080/"
        },
        "id": "3lDPu_07U6io",
        "outputId": "117fbe53-4a0d-4f6c-d8a4-dc324c26668f"
      },
      "execution_count": 10,
      "outputs": [
        {
          "output_type": "stream",
          "name": "stdout",
          "text": [
            "[1, 2, 3, 4, 5]\n"
          ]
        }
      ]
    },
    {
      "cell_type": "code",
      "source": [
        "#\tA list is a built-in data type that represents an ordered and mutable collection of elements. Lists are enclosed in square brackets [] and elements are separated by commas.\n",
        "fruits = [\"apple\", \"banana\", \"orange\", \"mango\"]"
      ],
      "metadata": {
        "id": "x5nC6MeDU6k-"
      },
      "execution_count": 11,
      "outputs": []
    },
    {
      "cell_type": "code",
      "source": [
        "#The `del` statement is used to remove an element from list. `del` statement removes the element at the specified index.\n",
        "my_list = [10, 20, 30, 40, 50]\n",
        "del my_list[2] # Removes the element at index 2 print(my_list)\n",
        "my_list"
      ],
      "metadata": {
        "colab": {
          "base_uri": "https://localhost:8080/"
        },
        "id": "utVxUo8gU6nz",
        "outputId": "9a996abe-d593-4ffc-a906-cf70fb096066"
      },
      "execution_count": 14,
      "outputs": [
        {
          "output_type": "execute_result",
          "data": {
            "text/plain": [
              "[10, 20, 40, 50]"
            ]
          },
          "metadata": {},
          "execution_count": 14
        }
      ]
    },
    {
      "cell_type": "code",
      "source": [
        "#The `extend()` method is used to add multiple elements to a list. It takes an iterable (such as another list, tuple, or string) and appends each element of the iterable to the original list.\n",
        "fruits = [\"apple\", \"banana\", \"orange\"]\n",
        "more_fruits = [\"mango\", \"grape\"]\n",
        "fruits.extend(more_fruits)\n",
        "print(fruits)"
      ],
      "metadata": {
        "colab": {
          "base_uri": "https://localhost:8080/"
        },
        "id": "zrnRyHBSU6qd",
        "outputId": "cd29aa8f-f847-4339-b79e-79ea1aa789cc"
      },
      "execution_count": 15,
      "outputs": [
        {
          "output_type": "stream",
          "name": "stdout",
          "text": [
            "['apple', 'banana', 'orange', 'mango', 'grape']\n"
          ]
        }
      ]
    },
    {
      "cell_type": "code",
      "source": [
        "#Indexing in a list allows you to access individual elements by their position. In Python, indexing starts from 0 for the first element and goes up to `length_of_list - 1`.\n",
        "my_list = [10, 20, 30, 40, 50]\n",
        "print(my_list[0])\n",
        "# Output: 10 (accessing the first element)\n",
        "print(my_list[-1])\n",
        "# Output: 50 (accessing the last element using negative indexing)"
      ],
      "metadata": {
        "colab": {
          "base_uri": "https://localhost:8080/"
        },
        "id": "wAbHyfhpU6sh",
        "outputId": "fc3afc46-d6a1-43a8-b5ec-1c2471404958"
      },
      "execution_count": 16,
      "outputs": [
        {
          "output_type": "stream",
          "name": "stdout",
          "text": [
            "10\n",
            "50\n"
          ]
        }
      ]
    },
    {
      "cell_type": "code",
      "source": [
        "#The `insert()` method is used to insert an element.\n",
        "#list_name.insert(index, element)\n",
        "my_list = [1, 2, 3, 4, 5]\n",
        "my_list.insert(2, 6)\n",
        "print(my_list)"
      ],
      "metadata": {
        "colab": {
          "base_uri": "https://localhost:8080/"
        },
        "id": "pelOrn37U6uz",
        "outputId": "a377bc31-1059-4c4f-85e6-5976d6394f12"
      },
      "execution_count": 17,
      "outputs": [
        {
          "output_type": "stream",
          "name": "stdout",
          "text": [
            "[1, 2, 6, 3, 4, 5]\n"
          ]
        }
      ]
    },
    {
      "cell_type": "code",
      "source": [
        "#You can use indexing to modify or assign new values to specific elements in the list.\n",
        "my_list = [10, 20, 30, 40, 50]\n",
        "my_list[1] = 25 # Modifying the second element\n",
        "print(my_list)\n"
      ],
      "metadata": {
        "colab": {
          "base_uri": "https://localhost:8080/"
        },
        "id": "qUMqmTzRU6xq",
        "outputId": "fbd72cfb-7167-44c1-db22-c84994b29dcd"
      },
      "execution_count": 19,
      "outputs": [
        {
          "output_type": "stream",
          "name": "stdout",
          "text": [
            "[10, 25, 30, 40, 50]\n"
          ]
        }
      ]
    },
    {
      "cell_type": "code",
      "source": [
        "#op()` method is another way to remove an element from a list in Python. It removes and returns the element at the specified index. If you don't provide an index to the `pop()` method,\n",
        "#it will remove and return the last element of the list by default\n",
        "my_list = [10, 20, 30, 40, 50]\n",
        "removed_element = my_list.pop(2) # Removes and returns the element at index 2\n",
        "print(removed_element)\n",
        "# Output: 30\n",
        "print(my_list)\n"
      ],
      "metadata": {
        "colab": {
          "base_uri": "https://localhost:8080/"
        },
        "id": "PZwUsy3qU6z6",
        "outputId": "59ef7bc6-a7f5-487a-da15-69ebf7b93bd0"
      },
      "execution_count": 20,
      "outputs": [
        {
          "output_type": "stream",
          "name": "stdout",
          "text": [
            "30\n",
            "[10, 20, 40, 50]\n"
          ]
        }
      ]
    },
    {
      "cell_type": "code",
      "source": [
        "#my_list = [10, 20, 30, 40, 50]\n",
        "removed_element = my_list.pop() # Removes and returns the last element\n",
        "print(removed_element)\n",
        "# Output: 50\n",
        "print(my_list)\n",
        "# Output: [10, 20, 30, 40]"
      ],
      "metadata": {
        "colab": {
          "base_uri": "https://localhost:8080/"
        },
        "id": "2wAeZX6zU62t",
        "outputId": "a2cdee45-bec9-460c-8879-93b99ed06f6a"
      },
      "execution_count": 21,
      "outputs": [
        {
          "output_type": "stream",
          "name": "stdout",
          "text": [
            "50\n",
            "[10, 20, 40]\n"
          ]
        }
      ]
    },
    {
      "cell_type": "code",
      "source": [
        "#To remove an element from a list. The `remove()` method removes the first occurrence of the specified value.\n",
        "my_list = [10, 20, 30, 40, 50]\n",
        "my_list.remove(30) # Removes the element 30\n",
        "print(my_list)\n",
        "# Output: [10, 20, 40, 50]"
      ],
      "metadata": {
        "colab": {
          "base_uri": "https://localhost:8080/"
        },
        "id": "df7qFHhVftaD",
        "outputId": "7c3455b2-e8de-4afe-b00d-107fb340edae"
      },
      "execution_count": 22,
      "outputs": [
        {
          "output_type": "stream",
          "name": "stdout",
          "text": [
            "[10, 20, 40, 50]\n"
          ]
        }
      ]
    },
    {
      "cell_type": "code",
      "source": [
        "#he `reverse()` method is used to reverse the order of elements in a list\n",
        "my_list = [1, 2, 3, 4, 5]\n",
        "my_list.reverse()\n",
        "print(my_list)"
      ],
      "metadata": {
        "colab": {
          "base_uri": "https://localhost:8080/"
        },
        "id": "m8_0DW5yftdD",
        "outputId": "dc03e2e3-bda0-45a4-f01d-833b47c05cf5"
      },
      "execution_count": 24,
      "outputs": [
        {
          "output_type": "stream",
          "name": "stdout",
          "text": [
            "[5, 4, 3, 2, 1]\n"
          ]
        }
      ]
    },
    {
      "cell_type": "code",
      "source": [
        "#You can use slicing to access a range of elements from a list.\n",
        "my_list = [1, 2, 3, 4, 5]\n",
        "print(my_list[1:4])\n",
        "# Output: [2, 3, 4] (elements from index 1 to 3)\n",
        "print(my_list[:3])\n",
        "# Output: [1, 2, 3] (elements from the beginning up to index 2)\n",
        "print(my_list[2:])\n",
        "# Output: [3, 4, 5] (elements from index 2 to the end)\n",
        "print(my_list[::2])\n",
        "# Output: [1, 3, 5] (every second element)"
      ],
      "metadata": {
        "colab": {
          "base_uri": "https://localhost:8080/"
        },
        "id": "mB7SyDcXftf5",
        "outputId": "9e058281-bad4-4dd6-de4c-b313c4e82ecc"
      },
      "execution_count": 25,
      "outputs": [
        {
          "output_type": "stream",
          "name": "stdout",
          "text": [
            "[2, 3, 4]\n",
            "[1, 2, 3]\n",
            "[3, 4, 5]\n",
            "[1, 3, 5]\n"
          ]
        }
      ]
    },
    {
      "cell_type": "code",
      "source": [
        "#The `sort()` method is used to sort the elements of a list in ascending order. If you want to sort the list in descending order,\n",
        "# you can pass the `reverse=True` argument to the `sort()` method.\n",
        "my_list = [5, 2, 8, 1, 9]\n",
        "my_list.sort()\n",
        "print(my_list)\n",
        "# Output: [1, 2, 5, 8, 9]"
      ],
      "metadata": {
        "colab": {
          "base_uri": "https://localhost:8080/"
        },
        "id": "_1amioYbftin",
        "outputId": "6687e495-91cf-4fca-a8d3-96a868d086f2"
      },
      "execution_count": 26,
      "outputs": [
        {
          "output_type": "stream",
          "name": "stdout",
          "text": [
            "[1, 2, 5, 8, 9]\n"
          ]
        }
      ]
    },
    {
      "cell_type": "code",
      "source": [
        "#my_list = [5, 2, 8, 1, 9]\n",
        "my_list.sort(reverse=True)\n",
        "print(my_list)\n",
        "# Output: [9, 8, 5, 2, 1]"
      ],
      "metadata": {
        "colab": {
          "base_uri": "https://localhost:8080/"
        },
        "id": "Xk8Fj2l8ftl1",
        "outputId": "63c40279-3928-41d3-80b4-2ed8ff40366e"
      },
      "execution_count": 28,
      "outputs": [
        {
          "output_type": "stream",
          "name": "stdout",
          "text": [
            "[9, 8, 5, 2, 1]\n"
          ]
        }
      ]
    },
    {
      "cell_type": "markdown",
      "source": [
        "**Dictionary**"
      ],
      "metadata": {
        "id": "Vk-rFmiai0g9"
      }
    },
    {
      "cell_type": "code",
      "source": [
        "#You can access the values in a dictionary using their corresponding `keys`.\n",
        "#Value = dict_name[\"key_name\"]\n",
        "#name = person[\"name\"]\n",
        "#age = person[\"age\"]"
      ],
      "metadata": {
        "id": "7pvO9la2hdNL"
      },
      "execution_count": 30,
      "outputs": []
    },
    {
      "cell_type": "code",
      "source": [
        "#Inserts a new key-value pair into the dictionary. If the key already exists, the value will be updated; otherwise, a new entry is created.\n",
        "#dict_name[key] = value\n",
        "person={}\n",
        "person[\"Country\"] = \"USA\" # A new entry will be created.\n",
        "person[\"city\"] = \"Chicago\" # Update the existing value for the same key\n",
        "print(person)"
      ],
      "metadata": {
        "colab": {
          "base_uri": "https://localhost:8080/"
        },
        "id": "Zk3P4e8ehdPz",
        "outputId": "4116843f-0b80-4d8c-d160-6b041b5d6b07"
      },
      "execution_count": 41,
      "outputs": [
        {
          "output_type": "stream",
          "name": "stdout",
          "text": [
            "{'Country': 'USA', 'city': 'Chicago'}\n"
          ]
        }
      ]
    },
    {
      "cell_type": "code",
      "source": [
        "#The `clear()` method empties the dictionary, removing all key-value pairs within it. After this operation, the dictionary is still accessible and can be used further.\n",
        "#dict_name.clear()\n",
        "person.clear()\n",
        "person\n",
        "#outpyt is {}\n"
      ],
      "metadata": {
        "colab": {
          "base_uri": "https://localhost:8080/"
        },
        "id": "W9GrkOkOhdSZ",
        "outputId": "4d0ca301-fcee-437c-9110-be77838abb7f"
      },
      "execution_count": 38,
      "outputs": [
        {
          "output_type": "execute_result",
          "data": {
            "text/plain": [
              "{}"
            ]
          },
          "metadata": {},
          "execution_count": 38
        }
      ]
    },
    {
      "cell_type": "code",
      "source": [
        "#Creates a shallow copy of the dictionary. The new dictionary contains the same key-value pairs as the original, but they remain distinct objects in memory.\n",
        "#new_dict = dict_name.copy()\n",
        "new_person = person.copy()\n",
        "new_person = dict(person) # another way to create a copy of dictionary\n",
        "new_person"
      ],
      "metadata": {
        "colab": {
          "base_uri": "https://localhost:8080/"
        },
        "id": "ESkjh2-RhdUg",
        "outputId": "bdc726f8-8289-4577-82ad-33ccfb7b7103"
      },
      "execution_count": 42,
      "outputs": [
        {
          "output_type": "execute_result",
          "data": {
            "text/plain": [
              "{'Country': 'USA', 'city': 'Chicago'}"
            ]
          },
          "metadata": {},
          "execution_count": 42
        }
      ]
    },
    {
      "cell_type": "code",
      "source": [
        "# Dictionary\tA dictionary is a built-in data type that represents a collection of key-value pairs. Dictionaries are enclosed in curly braces `{}`.\n",
        "dict_name = {} #Creates an empty dictionary\n",
        "person = { \"name\": \"John\", \"age\": 30, \"city\": \"New York\"}"
      ],
      "metadata": {
        "id": "nwJ3yuZahdXr"
      },
      "execution_count": 44,
      "outputs": []
    },
    {
      "cell_type": "code",
      "source": [
        "#Removes the specified key-value pair from the dictionary. Raises a `KeyError` if the key does not exist.\n",
        "#del dict_name[key]\n",
        "del person[\"Country\"]"
      ],
      "metadata": {
        "id": "uXP_D3izftpO"
      },
      "execution_count": 46,
      "outputs": []
    },
    {
      "cell_type": "code",
      "source": [
        "#Retrieves all key-value pairs as tuples and converts them into a list of tuples. Each tuple consists of a key and its corresponding value.\n",
        "#items_list = list(dict_name.items())\n",
        "info = list(person.items())\n",
        "info"
      ],
      "metadata": {
        "colab": {
          "base_uri": "https://localhost:8080/"
        },
        "id": "97RBoniNmY6c",
        "outputId": "42a55307-f33c-4932-90b4-4a99976e9a69"
      },
      "execution_count": 48,
      "outputs": [
        {
          "output_type": "execute_result",
          "data": {
            "text/plain": [
              "[('age', 30), ('city', 'New York')]"
            ]
          },
          "metadata": {},
          "execution_count": 48
        }
      ]
    },
    {
      "cell_type": "code",
      "source": [
        "#\tYou can check for the existence of a key in a dictionary using the `in` keyword\n",
        "if \"age\" in person:\n",
        "    print(\"age exists in the dictionary.\")"
      ],
      "metadata": {
        "colab": {
          "base_uri": "https://localhost:8080/"
        },
        "id": "WNpmrc5TmY9D",
        "outputId": "10cfd91b-6654-4b12-8866-181fbb6ac966"
      },
      "execution_count": 53,
      "outputs": [
        {
          "output_type": "stream",
          "name": "stdout",
          "text": [
            "age exists in the dictionary.\n"
          ]
        }
      ]
    },
    {
      "cell_type": "code",
      "source": [
        "#Retrieves all keys from the dictionary and converts them into a list. Useful for iterating or processing keys using list methods.\n",
        "#keys_list = list(dict_name.keys())\n",
        "person_keys = list(person.keys())\n",
        "person_keys"
      ],
      "metadata": {
        "colab": {
          "base_uri": "https://localhost:8080/"
        },
        "id": "sICvAkw-mY_X",
        "outputId": "1f7c1300-dd24-4408-dfb3-9d331a71c3f9"
      },
      "execution_count": 55,
      "outputs": [
        {
          "output_type": "execute_result",
          "data": {
            "text/plain": [
              "['age', 'city']"
            ]
          },
          "metadata": {},
          "execution_count": 55
        }
      ]
    },
    {
      "cell_type": "code",
      "source": [
        "#The `update()` method merges the provided dictionary into the existing dictionary, adding or updating key-value pairs.\n",
        "#dict_name.update({key: value})\n",
        "person.update({\"Profession\": \"Doctor\"})\n",
        "person"
      ],
      "metadata": {
        "colab": {
          "base_uri": "https://localhost:8080/"
        },
        "id": "K3DTo_GimZCI",
        "outputId": "154bf832-cd03-4e1f-a92e-1bf9882b45e1"
      },
      "execution_count": 57,
      "outputs": [
        {
          "output_type": "execute_result",
          "data": {
            "text/plain": [
              "{'age': 30, 'city': 'New York', 'Profession': 'Doctor'}"
            ]
          },
          "metadata": {},
          "execution_count": 57
        }
      ]
    },
    {
      "cell_type": "code",
      "source": [
        "#Extracts all values from the dictionary and converts them into a list. This list can be used for further processing or analysis.\n",
        "#values_list = list(dict_name.values())\n",
        "person_values = list(person.values())\n",
        "person_values"
      ],
      "metadata": {
        "colab": {
          "base_uri": "https://localhost:8080/"
        },
        "id": "gjMCYfTrmZFO",
        "outputId": "5d2c8df9-2af8-4e1f-b5b2-f53efbb48a9b"
      },
      "execution_count": 59,
      "outputs": [
        {
          "output_type": "execute_result",
          "data": {
            "text/plain": [
              "[30, 'New York', 'Doctor']"
            ]
          },
          "metadata": {},
          "execution_count": 59
        }
      ]
    },
    {
      "cell_type": "markdown",
      "source": [
        "**Sets**"
      ],
      "metadata": {
        "id": "Ks1CztSqqQxH"
      }
    },
    {
      "cell_type": "code",
      "source": [
        "#Elements can be added to a set using the `add()` method. Duplicates are automatically removed, as sets only store unique values.\n",
        "#set_name.add(element)\n",
        "fruits={\"m\",\"n\",\"g\",\"o\"}\n",
        "\n",
        "fruits.add(\"mango\")\n",
        "fruits\n"
      ],
      "metadata": {
        "colab": {
          "base_uri": "https://localhost:8080/"
        },
        "id": "wakfs9cRU66R",
        "outputId": "800c58fb-9df0-40e4-f6a6-d6238497dfe3"
      },
      "execution_count": 68,
      "outputs": [
        {
          "output_type": "execute_result",
          "data": {
            "text/plain": [
              "{'g', 'm', 'mango', 'n', 'o'}"
            ]
          },
          "metadata": {},
          "execution_count": 68
        }
      ]
    },
    {
      "cell_type": "code",
      "source": [
        "#The `clear()` method removes all elements from the set, resulting in an empty set. It updates the set in-place.\n",
        "#set_name.clear()\n",
        "fruits.clear()\n",
        "fruits\n"
      ],
      "metadata": {
        "colab": {
          "base_uri": "https://localhost:8080/"
        },
        "id": "D_UvqmoUrkpI",
        "outputId": "b684bf5d-a63a-4b32-d4ef-4950e9e5db4c"
      },
      "execution_count": 65,
      "outputs": [
        {
          "output_type": "execute_result",
          "data": {
            "text/plain": [
              "set()"
            ]
          },
          "metadata": {},
          "execution_count": 65
        }
      ]
    },
    {
      "cell_type": "code",
      "source": [
        "#The `copy()` method creates a shallow copy of the set. Any modifications to the copy won't affect the original set.\n",
        "#new_set = set_name.copy()\n",
        "new_fruits = fruits.copy()\n",
        "new_fruits"
      ],
      "metadata": {
        "colab": {
          "base_uri": "https://localhost:8080/"
        },
        "id": "cI70WRCHtPPb",
        "outputId": "2bb8cdc6-0aed-4251-d6bd-85328332cd5b"
      },
      "execution_count": 69,
      "outputs": [
        {
          "output_type": "execute_result",
          "data": {
            "text/plain": [
              "{'g', 'm', 'mango', 'n', 'o'}"
            ]
          },
          "metadata": {},
          "execution_count": 69
        }
      ]
    },
    {
      "cell_type": "code",
      "source": [
        "#A set is an unordered collection of unique elements. Sets are enclosed in curly braces `{}`. They are useful for storing distinct values and performing set operations.\n",
        "empty_set = set() #Creating an Empty Set\n",
        "fruits = {\"apple\", \"banana\", \"orange\"}\n"
      ],
      "metadata": {
        "id": "Uxz_uXXGtPR0"
      },
      "execution_count": 91,
      "outputs": []
    },
    {
      "cell_type": "code",
      "source": [
        "#Use the `discard()` method to remove a specific element from the set. Ignores if the element is not found.\n",
        "#set_name.discard(element)\n",
        "fruits.discard(\"apple\")\n",
        "\n",
        "fruits"
      ],
      "metadata": {
        "colab": {
          "base_uri": "https://localhost:8080/"
        },
        "id": "uGOmsi-rtPUR",
        "outputId": "43276d3c-026b-495e-e0b9-ec550bc75ff3"
      },
      "execution_count": 73,
      "outputs": [
        {
          "output_type": "execute_result",
          "data": {
            "text/plain": [
              "{'banana', 'orange'}"
            ]
          },
          "metadata": {},
          "execution_count": 73
        }
      ]
    },
    {
      "cell_type": "code",
      "source": [
        "#The `issubset()` method checks if the current set is a subset of another set. It returns True if all elements of the current set are present in the other set, otherwise False.\n",
        "#is_subset = set1.issubset(set2)\n",
        "#is_subset = fruits.issubset(colors)\n"
      ],
      "metadata": {
        "id": "c01hEiW2tPXA"
      },
      "execution_count": 76,
      "outputs": []
    },
    {
      "cell_type": "code",
      "source": [
        "#The `issuperset()` method checks if the current set is a superset of another set. It returns True if all elements of the other set are present in the current set, otherwise False.\n",
        "#is_superset = set1.issuperset(set2)\n",
        "#is_superset = colors.issuperset(fruits)\n"
      ],
      "metadata": {
        "id": "hCY1I-L1tPaa"
      },
      "execution_count": null,
      "outputs": []
    },
    {
      "cell_type": "code",
      "source": [
        "#The `pop()` method removes and returns an arbitrary element from the set. It raises a `KeyError` if the set is empty. Use this method to remove elements when the order doesn't matter.\n",
        "#removed_element = set_name.pop()\n",
        "removed_fruit = fruits.pop()\n",
        "\n",
        "removed_fruit\n"
      ],
      "metadata": {
        "colab": {
          "base_uri": "https://localhost:8080/",
          "height": 36
        },
        "id": "Kp1Q9vSvtPmn",
        "outputId": "b7c5b45f-16b3-4cd8-cd0a-dcf2d7a9a51d"
      },
      "execution_count": 87,
      "outputs": [
        {
          "output_type": "execute_result",
          "data": {
            "text/plain": [
              "'orange'"
            ],
            "application/vnd.google.colaboratory.intrinsic+json": {
              "type": "string"
            }
          },
          "metadata": {},
          "execution_count": 87
        }
      ]
    },
    {
      "cell_type": "code",
      "source": [
        "#Use the `remove()` method to remove a specific element from the set. Raises a `KeyError` if the element is not found.\n",
        "#set_name.remove(element)\n",
        "fruits.remove(\"banana\")\n",
        "fruits"
      ],
      "metadata": {
        "colab": {
          "base_uri": "https://localhost:8080/"
        },
        "id": "wUSTu-zwxsDn",
        "outputId": "704442a6-749a-4980-cb68-8ffbdb6cb2a8"
      },
      "execution_count": 92,
      "outputs": [
        {
          "output_type": "execute_result",
          "data": {
            "text/plain": [
              "{'apple', 'orange'}"
            ]
          },
          "metadata": {},
          "execution_count": 92
        }
      ]
    },
    {
      "cell_type": "code",
      "source": [
        "#Perform various operations on sets: `union`, `intersection`, `difference`, `symmetric difference`.\n",
        "#union_set = set1.union(set2)\n",
        "#intersection_set = set1.intersection(set2)\n",
        "#difference_set = set1.difference(set2)\n",
        "#sym_diff_set = set1.symmetric_difference(set2)\n",
        "combined = fruits.union(person)\n",
        "common = fruits.intersection(person)\n",
        "unique_to_fruits = fruits.difference(person)\n",
        "sym_diff = fruits.symmetric_difference(person)\n",
        "combined\n",
        "common\n",
        "unique_to_fruits\n",
        "sym_diff"
      ],
      "metadata": {
        "colab": {
          "base_uri": "https://localhost:8080/"
        },
        "id": "eZ4TsFqOyQjP",
        "outputId": "b35706ce-46c8-45f8-ca81-1f1715fad3db"
      },
      "execution_count": 98,
      "outputs": [
        {
          "output_type": "execute_result",
          "data": {
            "text/plain": [
              "{'Profession', 'age', 'apple', 'city', 'orange'}"
            ]
          },
          "metadata": {},
          "execution_count": 98
        }
      ]
    },
    {
      "cell_type": "code",
      "source": [
        "#The `update()` method adds elements from another iterable into the set. It maintains the uniqueness of elements.\n",
        "#set_name.update(iterable)\n",
        "fruits.update([\"kiwi\", \"grape\"])\n"
      ],
      "metadata": {
        "id": "hdeM1Va8yQog"
      },
      "execution_count": 100,
      "outputs": []
    },
    {
      "cell_type": "code",
      "source": [],
      "metadata": {
        "id": "2vHVcZBlyQq4"
      },
      "execution_count": 101,
      "outputs": []
    },
    {
      "cell_type": "code",
      "source": [],
      "metadata": {
        "id": "d36Gkit3yQxm"
      },
      "execution_count": null,
      "outputs": []
    },
    {
      "cell_type": "markdown",
      "source": [],
      "metadata": {
        "id": "ls-9eYwz5bht"
      }
    },
    {
      "cell_type": "code",
      "source": [],
      "metadata": {
        "id": "WVcbFnVGyQ1C"
      },
      "execution_count": null,
      "outputs": []
    }
  ]
}